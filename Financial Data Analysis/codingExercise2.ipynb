{
 "cells": [
  {
   "cell_type": "code",
   "execution_count": 4,
   "id": "e1fc8148",
   "metadata": {},
   "outputs": [],
   "source": [
    "import pandas as pd\n",
    "import matplotlib.pyplot as plt\n",
    "import numpy as np\n",
    "import yfinance as yf   \n",
    "pd.options.display.float_format = '{:.4f}'.format\n",
    "plt.style.use('seaborn-v0_8')"
   ]
  },
  {
   "cell_type": "code",
   "execution_count": 8,
   "id": "6425321c",
   "metadata": {},
   "outputs": [],
   "source": [
    "start = '2010-01-01'\n",
    "end = '2020-12-31'\n",
    "symbols = 'BTC-USD'"
   ]
  },
  {
   "cell_type": "code",
   "execution_count": 11,
   "id": "17fdc657",
   "metadata": {},
   "outputs": [
    {
     "name": "stderr",
     "output_type": "stream",
     "text": [
      "C:\\Users\\Mohit\\AppData\\Local\\Temp\\ipykernel_14616\\3722296184.py:1: FutureWarning: YF.download() has changed argument auto_adjust default to True\n",
      "  stocks = yf.download(symbols, start=start, end=end, multi_level_index=False)\n",
      "[*********************100%***********************]  1 of 1 completed\n"
     ]
    }
   ],
   "source": [
    "stocks = yf.download(symbols, start=start, end=end, multi_level_index=False)"
   ]
  },
  {
   "cell_type": "code",
   "execution_count": 14,
   "id": "5e478ffc",
   "metadata": {},
   "outputs": [
    {
     "data": {
      "text/plain": [
       "Date\n",
       "2014-09-18   -0.0719\n",
       "2014-09-19   -0.0698\n",
       "2014-09-20    0.0357\n",
       "2014-09-21   -0.0247\n",
       "2014-09-22    0.0084\n",
       "Name: Close, dtype: float64"
      ]
     },
     "execution_count": 14,
     "metadata": {},
     "output_type": "execute_result"
    }
   ],
   "source": [
    "btc_returns = stocks['Close'].pct_change().dropna()\n",
    "btc_returns.head()"
   ]
  },
  {
   "cell_type": "code",
   "execution_count": 15,
   "id": "2e957b50",
   "metadata": {},
   "outputs": [
    {
     "name": "stdout",
     "output_type": "stream",
     "text": [
      "Arithmetic mean return: 0.2554%\n",
      "Standard deviation of returns: 3.8443%\n"
     ]
    }
   ],
   "source": [
    "mean_return = btc_returns.mean()\n",
    "std_return = btc_returns.std()\n",
    "\n",
    "print(f\"Arithmetic mean return: {mean_return:.4%}\")\n",
    "print(f\"Standard deviation of returns: {std_return:.4%}\")"
   ]
  },
  {
   "cell_type": "code",
   "execution_count": 16,
   "id": "1a04eaf4",
   "metadata": {},
   "outputs": [
    {
     "name": "stdout",
     "output_type": "stream",
     "text": [
      "Bitcoin mean return: 0.2554%, std: 3.8443%\n",
      "Microsoft mean return: 0.1160%, std: 1.7260%\n",
      "Yes, Bitcoin has higher risk and higher reward compared to Microsoft.\n"
     ]
    }
   ],
   "source": [
    "# Compare mean and standard deviation of returns\n",
    "msft_mu = 0.00116\n",
    "msft_sigma = 0.01726\n",
    "\n",
    "btc_mu = mean_return\n",
    "btc_sigma = std_return\n",
    "\n",
    "print(f\"Bitcoin mean return: {btc_mu:.4%}, std: {btc_sigma:.4%}\")\n",
    "print(f\"Microsoft mean return: {msft_mu:.4%}, std: {msft_sigma:.4%}\")\n",
    "\n",
    "if btc_sigma > msft_sigma and btc_mu > msft_mu:\n",
    "    result = \"Yes, Bitcoin has higher risk and higher reward compared to Microsoft.\"\n",
    "elif btc_sigma > msft_sigma and btc_mu <= msft_mu:\n",
    "    result = \"No, Bitcoin has higher risk but not higher reward compared to Microsoft.\"\n",
    "elif btc_sigma < msft_sigma and btc_mu < msft_mu:\n",
    "    result = \"Yes, Microsoft has higher risk and higher reward compared to Bitcoin.\"\n",
    "else:\n",
    "    result = \"No clear relationship between risk and reward in this comparison.\"\n",
    "\n",
    "print(result)"
   ]
  },
  {
   "cell_type": "code",
   "execution_count": null,
   "id": "dbce6ef9",
   "metadata": {},
   "outputs": [],
   "source": []
  }
 ],
 "metadata": {
  "kernelspec": {
   "display_name": "Python 3",
   "language": "python",
   "name": "python3"
  },
  "language_info": {
   "codemirror_mode": {
    "name": "ipython",
    "version": 3
   },
   "file_extension": ".py",
   "mimetype": "text/x-python",
   "name": "python",
   "nbconvert_exporter": "python",
   "pygments_lexer": "ipython3",
   "version": "3.10.18"
  }
 },
 "nbformat": 4,
 "nbformat_minor": 5
}
