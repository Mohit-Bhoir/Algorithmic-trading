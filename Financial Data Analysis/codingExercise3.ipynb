{
 "cells": [
  {
   "cell_type": "code",
   "execution_count": 1,
   "id": "5c2a446f",
   "metadata": {},
   "outputs": [],
   "source": [
    "import pandas as pd\n",
    "import matplotlib.pyplot as plt\n",
    "import numpy as np\n",
    "import yfinance as yf   \n",
    "pd.options.display.float_format = '{:.4f}'.format\n",
    "plt.style.use('seaborn-v0_8')"
   ]
  },
  {
   "cell_type": "code",
   "execution_count": 2,
   "id": "f91c8a65",
   "metadata": {},
   "outputs": [],
   "source": [
    "start_date = '2010-01-01'\n",
    "end_date = '2020-12-31'\n",
    "symbols = 'BA'"
   ]
  },
  {
   "cell_type": "code",
   "execution_count": null,
   "id": "1169a039",
   "metadata": {},
   "outputs": [
    {
     "name": "stderr",
     "output_type": "stream",
     "text": [
      "C:\\Users\\Mohit\\AppData\\Local\\Temp\\ipykernel_10772\\1460194934.py:1: FutureWarning: YF.download() has changed argument auto_adjust default to True\n",
      "  df = yf.download(symbols, start=start_date, end=end_date, multi_level_index=False)\n",
      "[*********************100%***********************]  1 of 1 completed\n"
     ]
    }
   ],
   "source": [
    "df = yf.download(symbols, start=start_date, end=end_date, multi_level_index=False)"
   ]
  },
  {
   "cell_type": "code",
   "execution_count": 4,
   "id": "9b4c4771",
   "metadata": {},
   "outputs": [
    {
     "data": {
      "text/html": [
       "<div>\n",
       "<style scoped>\n",
       "    .dataframe tbody tr th:only-of-type {\n",
       "        vertical-align: middle;\n",
       "    }\n",
       "\n",
       "    .dataframe tbody tr th {\n",
       "        vertical-align: top;\n",
       "    }\n",
       "\n",
       "    .dataframe thead th {\n",
       "        text-align: right;\n",
       "    }\n",
       "</style>\n",
       "<table border=\"1\" class=\"dataframe\">\n",
       "  <thead>\n",
       "    <tr style=\"text-align: right;\">\n",
       "      <th></th>\n",
       "      <th>Close</th>\n",
       "      <th>High</th>\n",
       "      <th>Low</th>\n",
       "      <th>Open</th>\n",
       "      <th>Volume</th>\n",
       "    </tr>\n",
       "    <tr>\n",
       "      <th>Date</th>\n",
       "      <th></th>\n",
       "      <th></th>\n",
       "      <th></th>\n",
       "      <th></th>\n",
       "      <th></th>\n",
       "    </tr>\n",
       "  </thead>\n",
       "  <tbody>\n",
       "    <tr>\n",
       "      <th>2010-01-04</th>\n",
       "      <td>43.7776</td>\n",
       "      <td>43.9412</td>\n",
       "      <td>42.7022</td>\n",
       "      <td>43.4191</td>\n",
       "      <td>6186700</td>\n",
       "    </tr>\n",
       "    <tr>\n",
       "      <th>2010-01-05</th>\n",
       "      <td>45.2114</td>\n",
       "      <td>45.4140</td>\n",
       "      <td>43.6373</td>\n",
       "      <td>43.8321</td>\n",
       "      <td>8867800</td>\n",
       "    </tr>\n",
       "    <tr>\n",
       "      <th>2010-01-06</th>\n",
       "      <td>46.5828</td>\n",
       "      <td>46.7464</td>\n",
       "      <td>45.1023</td>\n",
       "      <td>45.3750</td>\n",
       "      <td>8836500</td>\n",
       "    </tr>\n",
       "    <tr>\n",
       "      <th>2010-01-07</th>\n",
       "      <td>48.4686</td>\n",
       "      <td>48.5543</td>\n",
       "      <td>45.9906</td>\n",
       "      <td>46.3724</td>\n",
       "      <td>14379100</td>\n",
       "    </tr>\n",
       "    <tr>\n",
       "      <th>2010-01-08</th>\n",
       "      <td>48.0010</td>\n",
       "      <td>48.1413</td>\n",
       "      <td>47.4244</td>\n",
       "      <td>47.9543</td>\n",
       "      <td>7146600</td>\n",
       "    </tr>\n",
       "    <tr>\n",
       "      <th>...</th>\n",
       "      <td>...</td>\n",
       "      <td>...</td>\n",
       "      <td>...</td>\n",
       "      <td>...</td>\n",
       "      <td>...</td>\n",
       "    </tr>\n",
       "    <tr>\n",
       "      <th>2020-12-23</th>\n",
       "      <td>219.6900</td>\n",
       "      <td>224.4000</td>\n",
       "      <td>219.3200</td>\n",
       "      <td>219.5500</td>\n",
       "      <td>10869000</td>\n",
       "    </tr>\n",
       "    <tr>\n",
       "      <th>2020-12-24</th>\n",
       "      <td>217.1500</td>\n",
       "      <td>219.8800</td>\n",
       "      <td>216.0500</td>\n",
       "      <td>219.6200</td>\n",
       "      <td>6398500</td>\n",
       "    </tr>\n",
       "    <tr>\n",
       "      <th>2020-12-28</th>\n",
       "      <td>216.0900</td>\n",
       "      <td>219.2000</td>\n",
       "      <td>215.1600</td>\n",
       "      <td>218.1900</td>\n",
       "      <td>9090600</td>\n",
       "    </tr>\n",
       "    <tr>\n",
       "      <th>2020-12-29</th>\n",
       "      <td>216.2500</td>\n",
       "      <td>221.6800</td>\n",
       "      <td>215.4000</td>\n",
       "      <td>218.3000</td>\n",
       "      <td>14593800</td>\n",
       "    </tr>\n",
       "    <tr>\n",
       "      <th>2020-12-30</th>\n",
       "      <td>216.6700</td>\n",
       "      <td>218.5500</td>\n",
       "      <td>214.3700</td>\n",
       "      <td>216.3600</td>\n",
       "      <td>10812600</td>\n",
       "    </tr>\n",
       "  </tbody>\n",
       "</table>\n",
       "<p>2768 rows × 5 columns</p>\n",
       "</div>"
      ],
      "text/plain": [
       "              Close     High      Low     Open    Volume\n",
       "Date                                                    \n",
       "2010-01-04  43.7776  43.9412  42.7022  43.4191   6186700\n",
       "2010-01-05  45.2114  45.4140  43.6373  43.8321   8867800\n",
       "2010-01-06  46.5828  46.7464  45.1023  45.3750   8836500\n",
       "2010-01-07  48.4686  48.5543  45.9906  46.3724  14379100\n",
       "2010-01-08  48.0010  48.1413  47.4244  47.9543   7146600\n",
       "...             ...      ...      ...      ...       ...\n",
       "2020-12-23 219.6900 224.4000 219.3200 219.5500  10869000\n",
       "2020-12-24 217.1500 219.8800 216.0500 219.6200   6398500\n",
       "2020-12-28 216.0900 219.2000 215.1600 218.1900   9090600\n",
       "2020-12-29 216.2500 221.6800 215.4000 218.3000  14593800\n",
       "2020-12-30 216.6700 218.5500 214.3700 216.3600  10812600\n",
       "\n",
       "[2768 rows x 5 columns]"
      ]
     },
     "execution_count": 4,
     "metadata": {},
     "output_type": "execute_result"
    }
   ],
   "source": [
    "df"
   ]
  },
  {
   "cell_type": "code",
   "execution_count": 20,
   "id": "782a8f49",
   "metadata": {},
   "outputs": [],
   "source": [
    "BA = df.Close.dropna().to_frame().copy()"
   ]
  },
  {
   "cell_type": "code",
   "execution_count": 21,
   "id": "cf140fa5",
   "metadata": {},
   "outputs": [
    {
     "data": {
      "text/html": [
       "<div>\n",
       "<style scoped>\n",
       "    .dataframe tbody tr th:only-of-type {\n",
       "        vertical-align: middle;\n",
       "    }\n",
       "\n",
       "    .dataframe tbody tr th {\n",
       "        vertical-align: top;\n",
       "    }\n",
       "\n",
       "    .dataframe thead th {\n",
       "        text-align: right;\n",
       "    }\n",
       "</style>\n",
       "<table border=\"1\" class=\"dataframe\">\n",
       "  <thead>\n",
       "    <tr style=\"text-align: right;\">\n",
       "      <th></th>\n",
       "      <th>Close</th>\n",
       "    </tr>\n",
       "    <tr>\n",
       "      <th>Date</th>\n",
       "      <th></th>\n",
       "    </tr>\n",
       "  </thead>\n",
       "  <tbody>\n",
       "    <tr>\n",
       "      <th>2010-01-04</th>\n",
       "      <td>43.7776</td>\n",
       "    </tr>\n",
       "    <tr>\n",
       "      <th>2010-01-05</th>\n",
       "      <td>45.2114</td>\n",
       "    </tr>\n",
       "    <tr>\n",
       "      <th>2010-01-06</th>\n",
       "      <td>46.5828</td>\n",
       "    </tr>\n",
       "    <tr>\n",
       "      <th>2010-01-07</th>\n",
       "      <td>48.4686</td>\n",
       "    </tr>\n",
       "    <tr>\n",
       "      <th>2010-01-08</th>\n",
       "      <td>48.0010</td>\n",
       "    </tr>\n",
       "    <tr>\n",
       "      <th>...</th>\n",
       "      <td>...</td>\n",
       "    </tr>\n",
       "    <tr>\n",
       "      <th>2020-12-23</th>\n",
       "      <td>219.6900</td>\n",
       "    </tr>\n",
       "    <tr>\n",
       "      <th>2020-12-24</th>\n",
       "      <td>217.1500</td>\n",
       "    </tr>\n",
       "    <tr>\n",
       "      <th>2020-12-28</th>\n",
       "      <td>216.0900</td>\n",
       "    </tr>\n",
       "    <tr>\n",
       "      <th>2020-12-29</th>\n",
       "      <td>216.2500</td>\n",
       "    </tr>\n",
       "    <tr>\n",
       "      <th>2020-12-30</th>\n",
       "      <td>216.6700</td>\n",
       "    </tr>\n",
       "  </tbody>\n",
       "</table>\n",
       "<p>2768 rows × 1 columns</p>\n",
       "</div>"
      ],
      "text/plain": [
       "              Close\n",
       "Date               \n",
       "2010-01-04  43.7776\n",
       "2010-01-05  45.2114\n",
       "2010-01-06  46.5828\n",
       "2010-01-07  48.4686\n",
       "2010-01-08  48.0010\n",
       "...             ...\n",
       "2020-12-23 219.6900\n",
       "2020-12-24 217.1500\n",
       "2020-12-28 216.0900\n",
       "2020-12-29 216.2500\n",
       "2020-12-30 216.6700\n",
       "\n",
       "[2768 rows x 1 columns]"
      ]
     },
     "execution_count": 21,
     "metadata": {},
     "output_type": "execute_result"
    }
   ],
   "source": [
    "BA"
   ]
  },
  {
   "cell_type": "code",
   "execution_count": 23,
   "id": "85b41534",
   "metadata": {},
   "outputs": [],
   "source": [
    "BA.rename(columns={'Close':'Price'}, inplace=True)"
   ]
  },
  {
   "cell_type": "code",
   "execution_count": 26,
   "id": "8669ca55",
   "metadata": {},
   "outputs": [],
   "source": [
    "BA.to_csv('boeing.csv')"
   ]
  },
  {
   "cell_type": "code",
   "execution_count": 27,
   "id": "88c33d2e",
   "metadata": {},
   "outputs": [
    {
     "data": {
      "text/html": [
       "<div>\n",
       "<style scoped>\n",
       "    .dataframe tbody tr th:only-of-type {\n",
       "        vertical-align: middle;\n",
       "    }\n",
       "\n",
       "    .dataframe tbody tr th {\n",
       "        vertical-align: top;\n",
       "    }\n",
       "\n",
       "    .dataframe thead th {\n",
       "        text-align: right;\n",
       "    }\n",
       "</style>\n",
       "<table border=\"1\" class=\"dataframe\">\n",
       "  <thead>\n",
       "    <tr style=\"text-align: right;\">\n",
       "      <th></th>\n",
       "      <th>Price</th>\n",
       "    </tr>\n",
       "    <tr>\n",
       "      <th>Date</th>\n",
       "      <th></th>\n",
       "    </tr>\n",
       "  </thead>\n",
       "  <tbody>\n",
       "    <tr>\n",
       "      <th>2010-01-04</th>\n",
       "      <td>43.7776</td>\n",
       "    </tr>\n",
       "    <tr>\n",
       "      <th>2010-01-05</th>\n",
       "      <td>45.2114</td>\n",
       "    </tr>\n",
       "    <tr>\n",
       "      <th>2010-01-06</th>\n",
       "      <td>46.5828</td>\n",
       "    </tr>\n",
       "    <tr>\n",
       "      <th>2010-01-07</th>\n",
       "      <td>48.4686</td>\n",
       "    </tr>\n",
       "    <tr>\n",
       "      <th>2010-01-08</th>\n",
       "      <td>48.0010</td>\n",
       "    </tr>\n",
       "    <tr>\n",
       "      <th>...</th>\n",
       "      <td>...</td>\n",
       "    </tr>\n",
       "    <tr>\n",
       "      <th>2020-12-23</th>\n",
       "      <td>219.6900</td>\n",
       "    </tr>\n",
       "    <tr>\n",
       "      <th>2020-12-24</th>\n",
       "      <td>217.1500</td>\n",
       "    </tr>\n",
       "    <tr>\n",
       "      <th>2020-12-28</th>\n",
       "      <td>216.0900</td>\n",
       "    </tr>\n",
       "    <tr>\n",
       "      <th>2020-12-29</th>\n",
       "      <td>216.2500</td>\n",
       "    </tr>\n",
       "    <tr>\n",
       "      <th>2020-12-30</th>\n",
       "      <td>216.6700</td>\n",
       "    </tr>\n",
       "  </tbody>\n",
       "</table>\n",
       "<p>2768 rows × 1 columns</p>\n",
       "</div>"
      ],
      "text/plain": [
       "              Price\n",
       "Date               \n",
       "2010-01-04  43.7776\n",
       "2010-01-05  45.2114\n",
       "2010-01-06  46.5828\n",
       "2010-01-07  48.4686\n",
       "2010-01-08  48.0010\n",
       "...             ...\n",
       "2020-12-23 219.6900\n",
       "2020-12-24 217.1500\n",
       "2020-12-28 216.0900\n",
       "2020-12-29 216.2500\n",
       "2020-12-30 216.6700\n",
       "\n",
       "[2768 rows x 1 columns]"
      ]
     },
     "execution_count": 27,
     "metadata": {},
     "output_type": "execute_result"
    }
   ],
   "source": [
    "boeing = pd.read_csv('boeing.csv', index_col='Date', parse_dates=[0])\n",
    "boeing"
   ]
  },
  {
   "cell_type": "code",
   "execution_count": 31,
   "id": "d1887402",
   "metadata": {},
   "outputs": [],
   "source": [
    "boeing['Returns'] = boeing.Price.pct_change(periods=1)"
   ]
  },
  {
   "cell_type": "code",
   "execution_count": 32,
   "id": "8083a724",
   "metadata": {},
   "outputs": [
    {
     "data": {
      "text/html": [
       "<div>\n",
       "<style scoped>\n",
       "    .dataframe tbody tr th:only-of-type {\n",
       "        vertical-align: middle;\n",
       "    }\n",
       "\n",
       "    .dataframe tbody tr th {\n",
       "        vertical-align: top;\n",
       "    }\n",
       "\n",
       "    .dataframe thead th {\n",
       "        text-align: right;\n",
       "    }\n",
       "</style>\n",
       "<table border=\"1\" class=\"dataframe\">\n",
       "  <thead>\n",
       "    <tr style=\"text-align: right;\">\n",
       "      <th></th>\n",
       "      <th>Price</th>\n",
       "      <th>Returns</th>\n",
       "    </tr>\n",
       "    <tr>\n",
       "      <th>Date</th>\n",
       "      <th></th>\n",
       "      <th></th>\n",
       "    </tr>\n",
       "  </thead>\n",
       "  <tbody>\n",
       "    <tr>\n",
       "      <th>2010-01-04</th>\n",
       "      <td>43.7776</td>\n",
       "      <td>NaN</td>\n",
       "    </tr>\n",
       "    <tr>\n",
       "      <th>2010-01-05</th>\n",
       "      <td>45.2114</td>\n",
       "      <td>0.0328</td>\n",
       "    </tr>\n",
       "    <tr>\n",
       "      <th>2010-01-06</th>\n",
       "      <td>46.5828</td>\n",
       "      <td>0.0303</td>\n",
       "    </tr>\n",
       "    <tr>\n",
       "      <th>2010-01-07</th>\n",
       "      <td>48.4686</td>\n",
       "      <td>0.0405</td>\n",
       "    </tr>\n",
       "    <tr>\n",
       "      <th>2010-01-08</th>\n",
       "      <td>48.0010</td>\n",
       "      <td>-0.0096</td>\n",
       "    </tr>\n",
       "    <tr>\n",
       "      <th>...</th>\n",
       "      <td>...</td>\n",
       "      <td>...</td>\n",
       "    </tr>\n",
       "    <tr>\n",
       "      <th>2020-12-23</th>\n",
       "      <td>219.6900</td>\n",
       "      <td>0.0042</td>\n",
       "    </tr>\n",
       "    <tr>\n",
       "      <th>2020-12-24</th>\n",
       "      <td>217.1500</td>\n",
       "      <td>-0.0116</td>\n",
       "    </tr>\n",
       "    <tr>\n",
       "      <th>2020-12-28</th>\n",
       "      <td>216.0900</td>\n",
       "      <td>-0.0049</td>\n",
       "    </tr>\n",
       "    <tr>\n",
       "      <th>2020-12-29</th>\n",
       "      <td>216.2500</td>\n",
       "      <td>0.0007</td>\n",
       "    </tr>\n",
       "    <tr>\n",
       "      <th>2020-12-30</th>\n",
       "      <td>216.6700</td>\n",
       "      <td>0.0019</td>\n",
       "    </tr>\n",
       "  </tbody>\n",
       "</table>\n",
       "<p>2768 rows × 2 columns</p>\n",
       "</div>"
      ],
      "text/plain": [
       "              Price  Returns\n",
       "Date                        \n",
       "2010-01-04  43.7776      NaN\n",
       "2010-01-05  45.2114   0.0328\n",
       "2010-01-06  46.5828   0.0303\n",
       "2010-01-07  48.4686   0.0405\n",
       "2010-01-08  48.0010  -0.0096\n",
       "...             ...      ...\n",
       "2020-12-23 219.6900   0.0042\n",
       "2020-12-24 217.1500  -0.0116\n",
       "2020-12-28 216.0900  -0.0049\n",
       "2020-12-29 216.2500   0.0007\n",
       "2020-12-30 216.6700   0.0019\n",
       "\n",
       "[2768 rows x 2 columns]"
      ]
     },
     "execution_count": 32,
     "metadata": {},
     "output_type": "execute_result"
    }
   ],
   "source": [
    "boeing"
   ]
  },
  {
   "cell_type": "code",
   "execution_count": 33,
   "id": "a63fa1dc",
   "metadata": {},
   "outputs": [
    {
     "data": {
      "text/plain": [
       "np.float64(4.9493400283356)"
      ]
     },
     "execution_count": 33,
     "metadata": {},
     "output_type": "execute_result"
    }
   ],
   "source": [
    "multiple = boeing.Price.iloc[-1] / boeing.Price.iloc[0]\n",
    "multiple "
   ]
  },
  {
   "cell_type": "code",
   "execution_count": 34,
   "id": "ae3b0b88",
   "metadata": {},
   "outputs": [
    {
     "data": {
      "text/plain": [
       "np.float64(394.93400283356)"
      ]
     },
     "execution_count": 34,
     "metadata": {},
     "output_type": "execute_result"
    }
   ],
   "source": [
    "( multiple - 1 ) * 100"
   ]
  },
  {
   "cell_type": "code",
   "execution_count": 35,
   "id": "0771425a",
   "metadata": {},
   "outputs": [
    {
     "data": {
      "text/plain": [
       "4013"
      ]
     },
     "execution_count": 35,
     "metadata": {},
     "output_type": "execute_result"
    }
   ],
   "source": [
    "start = boeing.index[0]\n",
    "end = boeing.index[-1]\n",
    "\n",
    "td = (end - start).days\n",
    "td\n"
   ]
  },
  {
   "cell_type": "code",
   "execution_count": 36,
   "id": "060aa294",
   "metadata": {},
   "outputs": [],
   "source": [
    "td_years = td / 365.25  # Convert days to years\n"
   ]
  },
  {
   "cell_type": "code",
   "execution_count": 37,
   "id": "3199b384",
   "metadata": {},
   "outputs": [
    {
     "data": {
      "text/plain": [
       "np.float64(15.668578801451938)"
      ]
     },
     "execution_count": 37,
     "metadata": {},
     "output_type": "execute_result"
    }
   ],
   "source": [
    "CAGR = (multiple ** (1/td_years)) - 1\n",
    "CAGR * 100"
   ]
  },
  {
   "cell_type": "code",
   "execution_count": 39,
   "id": "7c3018a1",
   "metadata": {},
   "outputs": [
    {
     "data": {
      "text/plain": [
       "np.int64(2767)"
      ]
     },
     "execution_count": 39,
     "metadata": {},
     "output_type": "execute_result"
    }
   ],
   "source": [
    "n = boeing.Returns.count()\n",
    "n"
   ]
  },
  {
   "cell_type": "code",
   "execution_count": 40,
   "id": "4ea26a69",
   "metadata": {},
   "outputs": [
    {
     "data": {
      "text/plain": [
       "np.float64(0.05781411249992097)"
      ]
     },
     "execution_count": 40,
     "metadata": {},
     "output_type": "execute_result"
    }
   ],
   "source": [
    "gm = multiple ** (1/n) - 1\n",
    "gm * 100"
   ]
  },
  {
   "cell_type": "code",
   "execution_count": 41,
   "id": "c773d7ae",
   "metadata": {},
   "outputs": [
    {
     "data": {
      "text/plain": [
       "np.float64(4.949340028335553)"
      ]
     },
     "execution_count": 41,
     "metadata": {},
     "output_type": "execute_result"
    }
   ],
   "source": [
    "investment_multiple_daily = (1 + boeing['Returns'].dropna()).prod()\n",
    "investment_multiple_daily"
   ]
  },
  {
   "cell_type": "code",
   "execution_count": null,
   "id": "5b1ebd7f",
   "metadata": {},
   "outputs": [],
   "source": []
  }
 ],
 "metadata": {
  "kernelspec": {
   "display_name": "Python 3",
   "language": "python",
   "name": "python3"
  },
  "language_info": {
   "codemirror_mode": {
    "name": "ipython",
    "version": 3
   },
   "file_extension": ".py",
   "mimetype": "text/x-python",
   "name": "python",
   "nbconvert_exporter": "python",
   "pygments_lexer": "ipython3",
   "version": "3.10.18"
  }
 },
 "nbformat": 4,
 "nbformat_minor": 5
}
