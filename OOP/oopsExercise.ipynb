{
 "cells": [
  {
   "cell_type": "code",
   "execution_count": 1,
   "id": "ff50714f",
   "metadata": {},
   "outputs": [],
   "source": [
    "import numpy as np"
   ]
  },
  {
   "cell_type": "code",
   "execution_count": 22,
   "id": "c75100e3",
   "metadata": {},
   "outputs": [],
   "source": [
    "class Rectangle():\n",
    "    def __init__(self,a,b):\n",
    "        self._a = a\n",
    "        self._b = b\n",
    "        self.calc_area()\n",
    "    \n",
    "    def __repr__(self):\n",
    "        return \"Rectangle with a = {} and b = {}\".format(self._a,self._b)\n",
    "    \n",
    "    def calc_area(self):\n",
    "        self.area = self._a * self._b\n",
    "        return self.area\n",
    "    \n",
    "    def calc_perimeter(self):\n",
    "        self.perimeter = 2*self._a + 2*self._b\n",
    "        return self.perimeter\n",
    "    \n",
    "    def diagonal(self):\n",
    "        self.diagonal = np.sqrt(self._a**2 + self._b**2)\n",
    "        return self.diagonal\n",
    "    \n",
    "    def setr_params(self, a = None, b = None):\n",
    "        if a is not None:\n",
    "            self._a = a\n",
    "            self.calc_area()\n",
    "        if b is not None:\n",
    "            self._b = b\n",
    "            self.calc_area()\n",
    "\n",
    "    \n"
   ]
  },
  {
   "cell_type": "code",
   "execution_count": 23,
   "id": "36d1a33f",
   "metadata": {},
   "outputs": [],
   "source": [
    "rec = Rectangle(4,5)"
   ]
  },
  {
   "cell_type": "code",
   "execution_count": 24,
   "id": "14d2ca0d",
   "metadata": {},
   "outputs": [
    {
     "data": {
      "text/plain": [
       "Rectangle with a = 4 and b = 5"
      ]
     },
     "execution_count": 24,
     "metadata": {},
     "output_type": "execute_result"
    }
   ],
   "source": [
    "rec"
   ]
  },
  {
   "cell_type": "code",
   "execution_count": 25,
   "id": "a06bece0",
   "metadata": {},
   "outputs": [
    {
     "data": {
      "text/plain": [
       "np.float64(6.4031242374328485)"
      ]
     },
     "execution_count": 25,
     "metadata": {},
     "output_type": "execute_result"
    }
   ],
   "source": [
    "rec.diagonal()"
   ]
  },
  {
   "cell_type": "code",
   "execution_count": 26,
   "id": "7e12a2af",
   "metadata": {},
   "outputs": [
    {
     "data": {
      "text/plain": [
       "20"
      ]
     },
     "execution_count": 26,
     "metadata": {},
     "output_type": "execute_result"
    }
   ],
   "source": [
    "rec.calc_area()"
   ]
  },
  {
   "cell_type": "code",
   "execution_count": 27,
   "id": "3578c662",
   "metadata": {},
   "outputs": [
    {
     "data": {
      "text/plain": [
       "18"
      ]
     },
     "execution_count": 27,
     "metadata": {},
     "output_type": "execute_result"
    }
   ],
   "source": [
    "rec.calc_perimeter()"
   ]
  },
  {
   "cell_type": "code",
   "execution_count": 28,
   "id": "a7445c52",
   "metadata": {},
   "outputs": [],
   "source": [
    "rec.setr_params(a = 8)"
   ]
  },
  {
   "cell_type": "code",
   "execution_count": 29,
   "id": "2b3003e2",
   "metadata": {},
   "outputs": [
    {
     "data": {
      "text/plain": [
       "40"
      ]
     },
     "execution_count": 29,
     "metadata": {},
     "output_type": "execute_result"
    }
   ],
   "source": [
    "rec.calc_area()"
   ]
  },
  {
   "cell_type": "code",
   "execution_count": 30,
   "id": "476d80e4",
   "metadata": {},
   "outputs": [
    {
     "data": {
      "text/plain": [
       "26"
      ]
     },
     "execution_count": 30,
     "metadata": {},
     "output_type": "execute_result"
    }
   ],
   "source": [
    "rec.calc_perimeter()"
   ]
  },
  {
   "cell_type": "code",
   "execution_count": null,
   "id": "223a12cf",
   "metadata": {},
   "outputs": [],
   "source": []
  }
 ],
 "metadata": {
  "kernelspec": {
   "display_name": "mlops",
   "language": "python",
   "name": "python3"
  },
  "language_info": {
   "codemirror_mode": {
    "name": "ipython",
    "version": 3
   },
   "file_extension": ".py",
   "mimetype": "text/x-python",
   "name": "python",
   "nbconvert_exporter": "python",
   "pygments_lexer": "ipython3",
   "version": "3.10.18"
  }
 },
 "nbformat": 4,
 "nbformat_minor": 5
}
