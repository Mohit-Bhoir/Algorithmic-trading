{
 "cells": [
  {
   "cell_type": "markdown",
   "id": "6d05ffbe-5b7b-4527-9446-1bf5180a556f",
   "metadata": {},
   "source": [
    "**Calculate Future Values ( Compounding )**"
   ]
  },
  {
   "cell_type": "markdown",
   "id": "72e146bf-58e5-43ad-87f4-45da35ec40f7",
   "metadata": {},
   "source": [
    "*Calculating Future Values (one period): You have 100 USD today and you save it for one year at an interest rate of 3%*"
   ]
  },
  {
   "cell_type": "code",
   "execution_count": 5,
   "id": "0af32f6c-b29f-4a73-9721-7a237ceb00c5",
   "metadata": {},
   "outputs": [
    {
     "data": {
      "text/plain": [
       "103.0"
      ]
     },
     "execution_count": 5,
     "metadata": {},
     "output_type": "execute_result"
    }
   ],
   "source": [
    "100 * 1.03"
   ]
  },
  {
   "cell_type": "code",
   "execution_count": 6,
   "id": "56f604f7-e856-4a62-aafc-d8018f15960b",
   "metadata": {},
   "outputs": [
    {
     "data": {
      "text/plain": [
       "103.0"
      ]
     },
     "execution_count": 6,
     "metadata": {},
     "output_type": "execute_result"
    }
   ],
   "source": [
    "100 + 100 * 0.03"
   ]
  },
  {
   "cell_type": "code",
   "execution_count": 8,
   "id": "4fe68cd8-cfd3-486d-a1fc-fc045777e32d",
   "metadata": {},
   "outputs": [
    {
     "data": {
      "text/plain": [
       "103.0"
      ]
     },
     "execution_count": 8,
     "metadata": {},
     "output_type": "execute_result"
    }
   ],
   "source": [
    "100 * ( 1 + 0.03 )"
   ]
  },
  {
   "cell_type": "markdown",
   "id": "651104b8-e317-42e1-a002-deba10827512",
   "metadata": {},
   "source": [
    "*Calculating Future Values (many periods): You have 100 USD today and you save it for three years at an interest rate of 3%*"
   ]
  },
  {
   "cell_type": "code",
   "execution_count": 9,
   "id": "2a7dc849-8e7f-49ec-bc9c-ca3b1003d377",
   "metadata": {},
   "outputs": [
    {
     "data": {
      "text/plain": [
       "109.2727"
      ]
     },
     "execution_count": 9,
     "metadata": {},
     "output_type": "execute_result"
    }
   ],
   "source": [
    "100 * 1.03 * 1.03 * 1.03"
   ]
  },
  {
   "cell_type": "code",
   "execution_count": 11,
   "id": "22f0810c-f680-4d84-9e29-dbd3645543bf",
   "metadata": {},
   "outputs": [
    {
     "data": {
      "text/plain": [
       "109.2727"
      ]
     },
     "execution_count": 11,
     "metadata": {},
     "output_type": "execute_result"
    }
   ],
   "source": [
    "100 * 1.03**3"
   ]
  },
  {
   "cell_type": "code",
   "execution_count": null,
   "id": "896871da-9d06-4643-b252-53253c568db6",
   "metadata": {},
   "outputs": [],
   "source": []
  },
  {
   "cell_type": "code",
   "execution_count": null,
   "id": "6433a4dc-8530-40c4-b2a8-b1f295a103cb",
   "metadata": {},
   "outputs": [],
   "source": []
  },
  {
   "cell_type": "code",
   "execution_count": null,
   "id": "8d8a27c9-4af7-474d-bb22-1fedc4bd3199",
   "metadata": {},
   "outputs": [],
   "source": []
  },
  {
   "cell_type": "code",
   "execution_count": 12,
   "id": "00fb5047-1216-44d4-9a47-e38e32cdea79",
   "metadata": {},
   "outputs": [
    {
     "data": {
      "text/plain": [
       "[100, 10, 20, 50, 30, 25]"
      ]
     },
     "execution_count": 12,
     "metadata": {},
     "output_type": "execute_result"
    }
   ],
   "source": [
    "cf = [100,10,20,50,30,25]\n",
    "cf"
   ]
  },
  {
   "cell_type": "code",
   "execution_count": 13,
   "id": "0d3eba02-b6bf-47ca-b4a5-8cf653df9ae8",
   "metadata": {},
   "outputs": [
    {
     "data": {
      "text/plain": [
       "[0, 1, 2, 3, 4, 5]"
      ]
     },
     "execution_count": 13,
     "metadata": {},
     "output_type": "execute_result"
    }
   ],
   "source": [
    "n = list(range(6))\n",
    "n"
   ]
  },
  {
   "cell_type": "code",
   "execution_count": 14,
   "id": "84c38ad2-75a0-45a3-b72a-79deac829733",
   "metadata": {},
   "outputs": [],
   "source": [
    "n = n[::-1]"
   ]
  },
  {
   "cell_type": "code",
   "execution_count": 15,
   "id": "baa2733b-aed0-4324-9431-d3f8e14e9dba",
   "metadata": {},
   "outputs": [
    {
     "data": {
      "text/plain": [
       "[5, 4, 3, 2, 1, 0]"
      ]
     },
     "execution_count": 15,
     "metadata": {},
     "output_type": "execute_result"
    }
   ],
   "source": [
    "n"
   ]
  },
  {
   "cell_type": "code",
   "execution_count": 16,
   "id": "ea3fef5c-f250-48af-b344-11cddc2c2630",
   "metadata": {},
   "outputs": [],
   "source": [
    "f = 1.03"
   ]
  },
  {
   "cell_type": "code",
   "execution_count": 17,
   "id": "bc083a45-3620-420c-9ba4-b437c221bb80",
   "metadata": {},
   "outputs": [
    {
     "name": "stdout",
     "output_type": "stream",
     "text": [
      "115.92740743\n",
      "127.18249553000001\n",
      "149.03703553000003\n",
      "202.08203553\n",
      "232.98203553000002\n",
      "257.98203553\n"
     ]
    }
   ],
   "source": [
    "FV = 0\n",
    "for i in range(6):\n",
    "    FV += cf[i]* f**n[i]\n",
    "    print(FV)"
   ]
  },
  {
   "cell_type": "code",
   "execution_count": 18,
   "id": "f2ac3afb-6b1e-49fc-a6ea-b0f927ae0226",
   "metadata": {},
   "outputs": [
    {
     "name": "stdout",
     "output_type": "stream",
     "text": [
      "257.98203553\n"
     ]
    }
   ],
   "source": [
    "FV = 0\n",
    "for i in range(6):\n",
    "    FV += cf[i]* f**n[i]\n",
    "print(FV)"
   ]
  },
  {
   "cell_type": "code",
   "execution_count": null,
   "id": "5825ddfd-3bcc-4966-9c1b-5dea95aa5aa4",
   "metadata": {},
   "outputs": [],
   "source": []
  },
  {
   "cell_type": "code",
   "execution_count": null,
   "id": "46eaa60c-90ee-43bc-88c8-5f952defbd9f",
   "metadata": {},
   "outputs": [],
   "source": []
  },
  {
   "cell_type": "code",
   "execution_count": null,
   "id": "a1ae958a-1a32-4bb1-994f-5017cd7af05a",
   "metadata": {},
   "outputs": [],
   "source": []
  },
  {
   "cell_type": "code",
   "execution_count": null,
   "id": "2d29493b-19c9-4727-8f2d-98431f9feefa",
   "metadata": {},
   "outputs": [],
   "source": []
  },
  {
   "cell_type": "code",
   "execution_count": null,
   "id": "cb8cbd0c-de3e-40d2-b6c0-e11bcf017836",
   "metadata": {},
   "outputs": [],
   "source": []
  },
  {
   "cell_type": "code",
   "execution_count": 19,
   "id": "43c80375-94f6-42d1-8439-256ad3535cad",
   "metadata": {},
   "outputs": [],
   "source": [
    "cf = [50,60,70,80,100]"
   ]
  },
  {
   "cell_type": "code",
   "execution_count": 20,
   "id": "a32cca34-2a9e-4bb1-a1a9-2cc08ce35eac",
   "metadata": {},
   "outputs": [],
   "source": [
    "f = 1.04\n"
   ]
  },
  {
   "cell_type": "code",
   "execution_count": 21,
   "id": "df3f4102-c223-4462-aa0d-5cfe98c06e9d",
   "metadata": {},
   "outputs": [
    {
     "name": "stdout",
     "output_type": "stream",
     "text": [
      "48.07692307692307\n",
      "103.55029585798815\n",
      "165.78004096495218\n",
      "234.16437624733024\n",
      "316.3570869232654\n"
     ]
    }
   ],
   "source": [
    "PV = 0 \n",
    "for i in range(5):\n",
    "    PV += cf[i] / f**(i+1)\n",
    "    print(PV)"
   ]
  },
  {
   "cell_type": "code",
   "execution_count": 22,
   "id": "99d19a2a-2a21-4d76-80a6-d2da8184b4a7",
   "metadata": {},
   "outputs": [
    {
     "name": "stdout",
     "output_type": "stream",
     "text": [
      "316.3570869232654\n"
     ]
    }
   ],
   "source": [
    "PV = 0 \n",
    "for i in range(5):\n",
    "    PV += cf[i] / f**(i+1)\n",
    "print(PV)"
   ]
  },
  {
   "cell_type": "code",
   "execution_count": null,
   "id": "a886f030-4820-4ace-9254-45e08e66934b",
   "metadata": {},
   "outputs": [],
   "source": []
  },
  {
   "cell_type": "code",
   "execution_count": null,
   "id": "18c5b6f1-4ce2-444a-a846-7ca994d09668",
   "metadata": {},
   "outputs": [],
   "source": []
  },
  {
   "cell_type": "code",
   "execution_count": null,
   "id": "023c273d-7ac9-4789-a4fb-63df3a88d99e",
   "metadata": {},
   "outputs": [],
   "source": []
  },
  {
   "cell_type": "code",
   "execution_count": 23,
   "id": "6e510889-6525-45dc-8ae2-48e01ee721b3",
   "metadata": {},
   "outputs": [],
   "source": [
    "cf = [-200, 20, 50, 70, 100, 50 ]\n",
    "f = 1.06"
   ]
  },
  {
   "cell_type": "code",
   "execution_count": 29,
   "id": "ac6596bd-6765-4c96-9b71-cd0262391b9b",
   "metadata": {},
   "outputs": [
    {
     "name": "stdout",
     "output_type": "stream",
     "text": [
      "-11.286628691620088\n"
     ]
    }
   ],
   "source": [
    "NPV = 0\n",
    "for i in range(6):\n",
    "    NPV += cf[i] / f**(i)\n",
    "print(NPV)"
   ]
  },
  {
   "cell_type": "markdown",
   "id": "b0956a2c-6adf-4ba4-a695-d5ed7aaf586b",
   "metadata": {},
   "source": [
    "**Would your decision change with a purchase price of 250 USD ?**"
   ]
  },
  {
   "cell_type": "code",
   "execution_count": 26,
   "id": "6026284a-208a-4ae7-ba5b-9f31cecaffb0",
   "metadata": {},
   "outputs": [],
   "source": [
    "cf[0] = -250"
   ]
  },
  {
   "cell_type": "code",
   "execution_count": 27,
   "id": "aff58541-e816-4141-b13a-977810ee156d",
   "metadata": {},
   "outputs": [
    {
     "data": {
      "text/plain": [
       "[-250, 20, 50, 70, 100, 50]"
      ]
     },
     "execution_count": 27,
     "metadata": {},
     "output_type": "execute_result"
    }
   ],
   "source": [
    "cf"
   ]
  },
  {
   "cell_type": "code",
   "execution_count": 30,
   "id": "1a588948-4c21-4458-8a31-1909508be710",
   "metadata": {},
   "outputs": [
    {
     "name": "stdout",
     "output_type": "stream",
     "text": [
      "-11.286628691620088\n"
     ]
    }
   ],
   "source": [
    "NPV = 0\n",
    "for i in range(6):\n",
    "    NPV += cf[i] / f**(i)\n",
    "print(NPV)"
   ]
  },
  {
   "cell_type": "markdown",
   "id": "d0be8742-2c9a-4840-81cd-817da738959d",
   "metadata": {},
   "source": [
    "**Since the NPV < 0, the company should not pursue this project**"
   ]
  },
  {
   "cell_type": "code",
   "execution_count": null,
   "id": "dcae0d31-ed38-42fc-8ad1-ff5ef55c00fb",
   "metadata": {},
   "outputs": [],
   "source": []
  }
 ],
 "metadata": {
  "kernelspec": {
   "display_name": "Python 3 (ipykernel)",
   "language": "python",
   "name": "python3"
  },
  "language_info": {
   "codemirror_mode": {
    "name": "ipython",
    "version": 3
   },
   "file_extension": ".py",
   "mimetype": "text/x-python",
   "name": "python",
   "nbconvert_exporter": "python",
   "pygments_lexer": "ipython3",
   "version": "3.10.18"
  }
 },
 "nbformat": 4,
 "nbformat_minor": 5
}
