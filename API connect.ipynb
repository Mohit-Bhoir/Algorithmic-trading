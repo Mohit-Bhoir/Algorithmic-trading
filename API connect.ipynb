{
 "cells": [
  {
   "cell_type": "markdown",
   "id": "dd1b725d-faa1-4b55-822f-6bc397d40d9f",
   "metadata": {},
   "source": [
    "**First steps with the OANDA API**"
   ]
  },
  {
   "cell_type": "markdown",
   "id": "4a011434-6788-41d2-85ae-40eb8da4a8d9",
   "metadata": {},
   "source": [
    "**Connecting to the API / Server**"
   ]
  },
  {
   "cell_type": "code",
   "execution_count": null,
   "id": "036f60a8-6e7a-4529-8694-6d316e40573a",
   "metadata": {},
   "outputs": [],
   "source": [
    "import pandas as pd\n",
    "import tpqoa "
   ]
  },
  {
   "cell_type": "code",
   "execution_count": 2,
   "id": "b064d63a-c55b-4d6d-a866-2887665103f9",
   "metadata": {},
   "outputs": [],
   "source": [
    "api = tpqoa.tpqoa(\"OANDA_First_steps\\oanda.cfg\")"
   ]
  },
  {
   "cell_type": "code",
   "execution_count": 3,
   "id": "cdea3947-9a76-43db-81fd-ad39def11db0",
   "metadata": {},
   "outputs": [
    {
     "data": {
      "text/plain": [
       "'practice'"
      ]
     },
     "execution_count": 3,
     "metadata": {},
     "output_type": "execute_result"
    }
   ],
   "source": [
    "api.account_type"
   ]
  },
  {
   "cell_type": "code",
   "execution_count": 4,
   "id": "25017545",
   "metadata": {},
   "outputs": [
    {
     "ename": "ResponseNoField",
     "evalue": "403 response for GET https://api-fxpractice.oanda.com:443/v3/accounts/001-004-36234373-001/summary does not have field 'account' (contains 'errorMessage')",
     "output_type": "error",
     "traceback": [
      "\u001b[1;31m---------------------------------------------------------------------------\u001b[0m",
      "\u001b[1;31mResponseNoField\u001b[0m                           Traceback (most recent call last)",
      "Cell \u001b[1;32mIn[4], line 1\u001b[0m\n\u001b[1;32m----> 1\u001b[0m \u001b[43mapi\u001b[49m\u001b[38;5;241;43m.\u001b[39;49m\u001b[43mget_account_summary\u001b[49m\u001b[43m(\u001b[49m\u001b[43m)\u001b[49m\n",
      "File \u001b[1;32md:\\anaconda3\\envs\\mlops\\lib\\site-packages\\tpqoa\\tpqoa.py:408\u001b[0m, in \u001b[0;36mtpqoa.get_account_summary\u001b[1;34m(self, detailed)\u001b[0m\n\u001b[0;32m    406\u001b[0m \u001b[38;5;28;01melse\u001b[39;00m:\n\u001b[0;32m    407\u001b[0m     response \u001b[38;5;241m=\u001b[39m \u001b[38;5;28mself\u001b[39m\u001b[38;5;241m.\u001b[39mctx\u001b[38;5;241m.\u001b[39maccount\u001b[38;5;241m.\u001b[39msummary(\u001b[38;5;28mself\u001b[39m\u001b[38;5;241m.\u001b[39maccount_id)\n\u001b[1;32m--> 408\u001b[0m raw \u001b[38;5;241m=\u001b[39m \u001b[43mresponse\u001b[49m\u001b[38;5;241;43m.\u001b[39;49m\u001b[43mget\u001b[49m\u001b[43m(\u001b[49m\u001b[38;5;124;43m'\u001b[39;49m\u001b[38;5;124;43maccount\u001b[39;49m\u001b[38;5;124;43m'\u001b[39;49m\u001b[43m)\u001b[49m\n\u001b[0;32m    409\u001b[0m \u001b[38;5;28;01mreturn\u001b[39;00m raw\u001b[38;5;241m.\u001b[39mdict()\n",
      "File \u001b[1;32md:\\anaconda3\\envs\\mlops\\lib\\site-packages\\v20\\response.py:35\u001b[0m, in \u001b[0;36mResponse.get\u001b[1;34m(self, field, status)\u001b[0m\n\u001b[0;32m     32\u001b[0m value \u001b[38;5;241m=\u001b[39m \u001b[38;5;28mself\u001b[39m\u001b[38;5;241m.\u001b[39mbody\u001b[38;5;241m.\u001b[39mget(field)\n\u001b[0;32m     34\u001b[0m \u001b[38;5;28;01mif\u001b[39;00m value \u001b[38;5;129;01mis\u001b[39;00m \u001b[38;5;28;01mNone\u001b[39;00m:\n\u001b[1;32m---> 35\u001b[0m     \u001b[38;5;28;01mraise\u001b[39;00m ResponseNoField(\u001b[38;5;28mself\u001b[39m, field)\n\u001b[0;32m     37\u001b[0m \u001b[38;5;28;01mreturn\u001b[39;00m value\n",
      "\u001b[1;31mResponseNoField\u001b[0m: 403 response for GET https://api-fxpractice.oanda.com:443/v3/accounts/001-004-36234373-001/summary does not have field 'account' (contains 'errorMessage')"
     ]
    }
   ],
   "source": [
    "api.get_account_summary()"
   ]
  },
  {
   "cell_type": "code",
   "execution_count": null,
   "id": "ed83bade",
   "metadata": {},
   "outputs": [
    {
     "data": {
      "text/plain": [
       "'001-004-36234373-001'"
      ]
     },
     "execution_count": 16,
     "metadata": {},
     "output_type": "execute_result"
    }
   ],
   "source": [
    "api.account_id"
   ]
  },
  {
   "cell_type": "code",
   "execution_count": null,
   "id": "71523174",
   "metadata": {},
   "outputs": [
    {
     "ename": "ResponseNoField",
     "evalue": "403 response for GET https://api-fxpractice.oanda.com:443/v3/accounts/001-004-36234373-001/instruments does not have field 'instruments' (contains 'errorMessage')",
     "output_type": "error",
     "traceback": [
      "\u001b[1;31m---------------------------------------------------------------------------\u001b[0m",
      "\u001b[1;31mResponseNoField\u001b[0m                           Traceback (most recent call last)",
      "Cell \u001b[1;32mIn[17], line 1\u001b[0m\n\u001b[1;32m----> 1\u001b[0m \u001b[43mapi\u001b[49m\u001b[38;5;241;43m.\u001b[39;49m\u001b[43mget_instruments\u001b[49m\u001b[43m(\u001b[49m\u001b[43m)\u001b[49m\n",
      "File \u001b[1;32md:\\anaconda3\\envs\\mlops\\lib\\site-packages\\tpqoa\\tpqoa.py:142\u001b[0m, in \u001b[0;36mtpqoa.get_instruments\u001b[1;34m(self)\u001b[0m\n\u001b[0;32m    140\u001b[0m \u001b[38;5;250m\u001b[39m\u001b[38;5;124;03m''' Retrieves and returns all instruments for the given account. '''\u001b[39;00m\n\u001b[0;32m    141\u001b[0m resp \u001b[38;5;241m=\u001b[39m \u001b[38;5;28mself\u001b[39m\u001b[38;5;241m.\u001b[39mctx\u001b[38;5;241m.\u001b[39maccount\u001b[38;5;241m.\u001b[39minstruments(\u001b[38;5;28mself\u001b[39m\u001b[38;5;241m.\u001b[39maccount_id)\n\u001b[1;32m--> 142\u001b[0m instruments \u001b[38;5;241m=\u001b[39m \u001b[43mresp\u001b[49m\u001b[38;5;241;43m.\u001b[39;49m\u001b[43mget\u001b[49m\u001b[43m(\u001b[49m\u001b[38;5;124;43m'\u001b[39;49m\u001b[38;5;124;43minstruments\u001b[39;49m\u001b[38;5;124;43m'\u001b[39;49m\u001b[43m)\u001b[49m\n\u001b[0;32m    143\u001b[0m instruments \u001b[38;5;241m=\u001b[39m [ins\u001b[38;5;241m.\u001b[39mdict() \u001b[38;5;28;01mfor\u001b[39;00m ins \u001b[38;5;129;01min\u001b[39;00m instruments]\n\u001b[0;32m    144\u001b[0m instruments \u001b[38;5;241m=\u001b[39m [(ins[\u001b[38;5;124m'\u001b[39m\u001b[38;5;124mdisplayName\u001b[39m\u001b[38;5;124m'\u001b[39m], ins[\u001b[38;5;124m'\u001b[39m\u001b[38;5;124mname\u001b[39m\u001b[38;5;124m'\u001b[39m])\n\u001b[0;32m    145\u001b[0m                \u001b[38;5;28;01mfor\u001b[39;00m ins \u001b[38;5;129;01min\u001b[39;00m instruments]\n",
      "File \u001b[1;32md:\\anaconda3\\envs\\mlops\\lib\\site-packages\\v20\\response.py:35\u001b[0m, in \u001b[0;36mResponse.get\u001b[1;34m(self, field, status)\u001b[0m\n\u001b[0;32m     32\u001b[0m value \u001b[38;5;241m=\u001b[39m \u001b[38;5;28mself\u001b[39m\u001b[38;5;241m.\u001b[39mbody\u001b[38;5;241m.\u001b[39mget(field)\n\u001b[0;32m     34\u001b[0m \u001b[38;5;28;01mif\u001b[39;00m value \u001b[38;5;129;01mis\u001b[39;00m \u001b[38;5;28;01mNone\u001b[39;00m:\n\u001b[1;32m---> 35\u001b[0m     \u001b[38;5;28;01mraise\u001b[39;00m ResponseNoField(\u001b[38;5;28mself\u001b[39m, field)\n\u001b[0;32m     37\u001b[0m \u001b[38;5;28;01mreturn\u001b[39;00m value\n",
      "\u001b[1;31mResponseNoField\u001b[0m: 403 response for GET https://api-fxpractice.oanda.com:443/v3/accounts/001-004-36234373-001/instruments does not have field 'instruments' (contains 'errorMessage')"
     ]
    }
   ],
   "source": [
    "api.get_instruments()"
   ]
  },
  {
   "cell_type": "code",
   "execution_count": null,
   "id": "4251a147",
   "metadata": {},
   "outputs": [
    {
     "ename": "ResponseNoField",
     "evalue": "503 response for GET https://api-fxpractice.oanda.com:443/v3/accounts/001-004-36234373-001/instruments does not have field 'instruments' (contains 'errorMessage')",
     "output_type": "error",
     "traceback": [
      "\u001b[1;31m---------------------------------------------------------------------------\u001b[0m",
      "\u001b[1;31mResponseNoField\u001b[0m                           Traceback (most recent call last)",
      "Cell \u001b[1;32mIn[22], line 1\u001b[0m\n\u001b[1;32m----> 1\u001b[0m instr \u001b[38;5;241m=\u001b[39m \u001b[43mapi\u001b[49m\u001b[38;5;241;43m.\u001b[39;49m\u001b[43mget_instruments\u001b[49m\u001b[43m(\u001b[49m\u001b[43m)\u001b[49m\n",
      "File \u001b[1;32md:\\anaconda3\\envs\\mlops\\lib\\site-packages\\tpqoa\\tpqoa.py:142\u001b[0m, in \u001b[0;36mtpqoa.get_instruments\u001b[1;34m(self)\u001b[0m\n\u001b[0;32m    140\u001b[0m \u001b[38;5;250m\u001b[39m\u001b[38;5;124;03m''' Retrieves and returns all instruments for the given account. '''\u001b[39;00m\n\u001b[0;32m    141\u001b[0m resp \u001b[38;5;241m=\u001b[39m \u001b[38;5;28mself\u001b[39m\u001b[38;5;241m.\u001b[39mctx\u001b[38;5;241m.\u001b[39maccount\u001b[38;5;241m.\u001b[39minstruments(\u001b[38;5;28mself\u001b[39m\u001b[38;5;241m.\u001b[39maccount_id)\n\u001b[1;32m--> 142\u001b[0m instruments \u001b[38;5;241m=\u001b[39m \u001b[43mresp\u001b[49m\u001b[38;5;241;43m.\u001b[39;49m\u001b[43mget\u001b[49m\u001b[43m(\u001b[49m\u001b[38;5;124;43m'\u001b[39;49m\u001b[38;5;124;43minstruments\u001b[39;49m\u001b[38;5;124;43m'\u001b[39;49m\u001b[43m)\u001b[49m\n\u001b[0;32m    143\u001b[0m instruments \u001b[38;5;241m=\u001b[39m [ins\u001b[38;5;241m.\u001b[39mdict() \u001b[38;5;28;01mfor\u001b[39;00m ins \u001b[38;5;129;01min\u001b[39;00m instruments]\n\u001b[0;32m    144\u001b[0m instruments \u001b[38;5;241m=\u001b[39m [(ins[\u001b[38;5;124m'\u001b[39m\u001b[38;5;124mdisplayName\u001b[39m\u001b[38;5;124m'\u001b[39m], ins[\u001b[38;5;124m'\u001b[39m\u001b[38;5;124mname\u001b[39m\u001b[38;5;124m'\u001b[39m])\n\u001b[0;32m    145\u001b[0m                \u001b[38;5;28;01mfor\u001b[39;00m ins \u001b[38;5;129;01min\u001b[39;00m instruments]\n",
      "File \u001b[1;32md:\\anaconda3\\envs\\mlops\\lib\\site-packages\\v20\\response.py:35\u001b[0m, in \u001b[0;36mResponse.get\u001b[1;34m(self, field, status)\u001b[0m\n\u001b[0;32m     32\u001b[0m value \u001b[38;5;241m=\u001b[39m \u001b[38;5;28mself\u001b[39m\u001b[38;5;241m.\u001b[39mbody\u001b[38;5;241m.\u001b[39mget(field)\n\u001b[0;32m     34\u001b[0m \u001b[38;5;28;01mif\u001b[39;00m value \u001b[38;5;129;01mis\u001b[39;00m \u001b[38;5;28;01mNone\u001b[39;00m:\n\u001b[1;32m---> 35\u001b[0m     \u001b[38;5;28;01mraise\u001b[39;00m ResponseNoField(\u001b[38;5;28mself\u001b[39m, field)\n\u001b[0;32m     37\u001b[0m \u001b[38;5;28;01mreturn\u001b[39;00m value\n",
      "\u001b[1;31mResponseNoField\u001b[0m: 503 response for GET https://api-fxpractice.oanda.com:443/v3/accounts/001-004-36234373-001/instruments does not have field 'instruments' (contains 'errorMessage')"
     ]
    }
   ],
   "source": [
    "instr = api.get_instruments()"
   ]
  },
  {
   "cell_type": "code",
   "execution_count": null,
   "id": "2bf25be4",
   "metadata": {},
   "outputs": [],
   "source": []
  }
 ],
 "metadata": {
  "kernelspec": {
   "display_name": "mlops",
   "language": "python",
   "name": "python3"
  },
  "language_info": {
   "codemirror_mode": {
    "name": "ipython",
    "version": 3
   },
   "file_extension": ".py",
   "mimetype": "text/x-python",
   "name": "python",
   "nbconvert_exporter": "python",
   "pygments_lexer": "ipython3",
   "version": "3.10.13"
  }
 },
 "nbformat": 4,
 "nbformat_minor": 5
}
