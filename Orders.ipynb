{
 "cells": [
  {
   "cell_type": "code",
   "execution_count": 1,
   "id": "6bd237dd",
   "metadata": {},
   "outputs": [],
   "source": [
    "import pandas as pd\n",
    "import tpqoa"
   ]
  },
  {
   "cell_type": "code",
   "execution_count": 2,
   "id": "3a424095",
   "metadata": {},
   "outputs": [],
   "source": [
    "api = tpqoa.tpqoa('OANDA_First_steps\\oanda.cfg')"
   ]
  },
  {
   "cell_type": "code",
   "execution_count": 3,
   "id": "8486b305",
   "metadata": {},
   "outputs": [
    {
     "name": "stdout",
     "output_type": "stream",
     "text": [
      "\n",
      "\n",
      " {'id': '35', 'time': '2025-09-08T13:38:18.354486477Z', 'userID': 36234373, 'accountID': '101-004-36234373-001', 'batchID': '34', 'requestID': '97442805279235333', 'type': 'ORDER_FILL', 'orderID': '34', 'instrument': 'EUR_USD', 'units': '100000.0', 'gainQuoteHomeConversionFactor': '0.734249611578', 'lossQuoteHomeConversionFactor': '0.741629004659', 'price': 1.17516, 'fullVWAP': 1.17516, 'fullPrice': {'type': 'PRICE', 'bids': [{'price': 1.17509, 'liquidity': '500000'}, {'price': 1.17508, 'liquidity': '500000'}, {'price': 1.17507, 'liquidity': '2000000'}, {'price': 1.17506, 'liquidity': '2000000'}, {'price': 1.17505, 'liquidity': '5000000'}, {'price': 1.17503, 'liquidity': '10000000'}, {'price': 1.175, 'liquidity': '10000000'}], 'asks': [{'price': 1.17516, 'liquidity': '500000'}, {'price': 1.17518, 'liquidity': '2500000'}, {'price': 1.17519, 'liquidity': '2000000'}, {'price': 1.1752, 'liquidity': '5000000'}, {'price': 1.17523, 'liquidity': '10000000'}, {'price': 1.17526, 'liquidity': '10000000'}], 'closeoutBid': 1.175, 'closeoutAsk': 1.17526}, 'reason': 'MARKET_ORDER', 'pl': '0.0', 'financing': '0.0', 'commission': '0.0', 'guaranteedExecutionFee': '0.0', 'accountBalance': '199918.4394', 'tradeOpened': {'tradeID': '35', 'units': '100000.0', 'price': 1.17516, 'guaranteedExecutionFee': '0.0', 'halfSpreadCost': '2.5828', 'initialMarginRequired': '2890.5667'}, 'halfSpreadCost': '2.5828'} \n",
      "\n"
     ]
    }
   ],
   "source": [
    "api.create_order(instrument='EUR_USD', units=100000, sl_distance=0.1)"
   ]
  },
  {
   "cell_type": "code",
   "execution_count": 7,
   "id": "7ec3f8c5",
   "metadata": {},
   "outputs": [
    {
     "name": "stdout",
     "output_type": "stream",
     "text": [
      "\n",
      "\n",
      " {'id': '38', 'time': '2025-09-08T13:40:27.553177776Z', 'userID': 36234373, 'accountID': '101-004-36234373-001', 'batchID': '37', 'requestID': '97442805820405485', 'type': 'ORDER_FILL', 'orderID': '37', 'instrument': 'EUR_USD', 'units': '-100000.0', 'gainQuoteHomeConversionFactor': '0.73417918022', 'lossQuoteHomeConversionFactor': '0.741557865448', 'price': 1.17521, 'fullVWAP': 1.17521, 'fullPrice': {'type': 'PRICE', 'bids': [{'price': 1.17521, 'liquidity': '500000'}, {'price': 1.1752, 'liquidity': '500000'}, {'price': 1.17519, 'liquidity': '2000000'}, {'price': 1.17518, 'liquidity': '2000000'}, {'price': 1.17517, 'liquidity': '5000000'}, {'price': 1.17515, 'liquidity': '10000000'}, {'price': 1.17512, 'liquidity': '10000000'}], 'asks': [{'price': 1.17527, 'liquidity': '500000'}, {'price': 1.17529, 'liquidity': '2500000'}, {'price': 1.1753, 'liquidity': '2000000'}, {'price': 1.17531, 'liquidity': '5000000'}, {'price': 1.17534, 'liquidity': '10000000'}, {'price': 1.17537, 'liquidity': '10000000'}], 'closeoutBid': 1.17512, 'closeoutAsk': 1.17537}, 'reason': 'MARKET_ORDER', 'pl': '3.6709', 'financing': '0.0', 'commission': '0.0', 'guaranteedExecutionFee': '0.0', 'accountBalance': '199922.1103', 'tradesClosed': [{'tradeID': '35', 'units': '-100000.0', 'price': 1.17521, 'realizedPL': '3.6709', 'financing': '0.0', 'guaranteedExecutionFee': '0.0', 'halfSpreadCost': '2.2136'}], 'halfSpreadCost': '2.2136'} \n",
      "\n"
     ]
    }
   ],
   "source": [
    "api.create_order(instrument='EUR_USD', units=-100000, sl_distance=0.1)"
   ]
  },
  {
   "cell_type": "code",
   "execution_count": 8,
   "id": "c780bc32",
   "metadata": {},
   "outputs": [
    {
     "data": {
      "text/plain": [
       "{'id': '101-004-36234373-001',\n",
       " 'alias': 'Primary',\n",
       " 'currency': 'GBP',\n",
       " 'balance': '199922.1103',\n",
       " 'createdByUserID': 36234373,\n",
       " 'createdTime': '2025-08-29T16:11:28.851462359Z',\n",
       " 'guaranteedStopLossOrderMode': 'ALLOWED',\n",
       " 'pl': '-75.4092',\n",
       " 'resettablePL': '-75.4092',\n",
       " 'resettablePLTime': '0',\n",
       " 'financing': '-2.4805',\n",
       " 'commission': '0.0',\n",
       " 'guaranteedExecutionFees': '0.0',\n",
       " 'marginRate': '0.03333333333333',\n",
       " 'openTradeCount': 0,\n",
       " 'openPositionCount': 0,\n",
       " 'pendingOrderCount': 0,\n",
       " 'hedgingEnabled': False,\n",
       " 'unrealizedPL': '0.0',\n",
       " 'NAV': '199922.1103',\n",
       " 'marginUsed': '0.0',\n",
       " 'marginAvailable': '199922.1103',\n",
       " 'positionValue': '0.0',\n",
       " 'marginCloseoutUnrealizedPL': '0.0',\n",
       " 'marginCloseoutNAV': '199922.1103',\n",
       " 'marginCloseoutMarginUsed': '0.0',\n",
       " 'marginCloseoutPercent': '0.0',\n",
       " 'marginCloseoutPositionValue': '0.0',\n",
       " 'withdrawalLimit': '199922.1103',\n",
       " 'marginCallMarginUsed': '0.0',\n",
       " 'marginCallPercent': '0.0',\n",
       " 'lastTransactionID': '39'}"
      ]
     },
     "execution_count": 8,
     "metadata": {},
     "output_type": "execute_result"
    }
   ],
   "source": [
    "api.get_account_summary()"
   ]
  },
  {
   "cell_type": "code",
   "execution_count": 11,
   "id": "a7376cca",
   "metadata": {},
   "outputs": [
    {
     "data": {
      "text/plain": [
       "[{'id': '36',\n",
       "  'time': '2025-09-08T13:38:18.354486477Z',\n",
       "  'userID': 36234373,\n",
       "  'accountID': '101-004-36234373-001',\n",
       "  'batchID': '34',\n",
       "  'requestID': '97442805279235333',\n",
       "  'type': 'STOP_LOSS_ORDER',\n",
       "  'tradeID': '35',\n",
       "  'price': 1.07516,\n",
       "  'distance': '0.1',\n",
       "  'timeInForce': 'GTC',\n",
       "  'triggerCondition': 'DEFAULT',\n",
       "  'reason': 'ON_FILL'},\n",
       " {'id': '37',\n",
       "  'time': '2025-09-08T13:40:27.553177776Z',\n",
       "  'userID': 36234373,\n",
       "  'accountID': '101-004-36234373-001',\n",
       "  'batchID': '37',\n",
       "  'requestID': '97442805820405485',\n",
       "  'type': 'MARKET_ORDER',\n",
       "  'instrument': 'EUR_USD',\n",
       "  'units': '-100000.0',\n",
       "  'timeInForce': 'FOK',\n",
       "  'positionFill': 'DEFAULT',\n",
       "  'reason': 'CLIENT_ORDER',\n",
       "  'stopLossOnFill': {'distance': '0.1', 'timeInForce': 'GTC'}},\n",
       " {'id': '38',\n",
       "  'time': '2025-09-08T13:40:27.553177776Z',\n",
       "  'userID': 36234373,\n",
       "  'accountID': '101-004-36234373-001',\n",
       "  'batchID': '37',\n",
       "  'requestID': '97442805820405485',\n",
       "  'type': 'ORDER_FILL',\n",
       "  'orderID': '37',\n",
       "  'instrument': 'EUR_USD',\n",
       "  'units': '-100000.0',\n",
       "  'gainQuoteHomeConversionFactor': '0.73417918022',\n",
       "  'lossQuoteHomeConversionFactor': '0.741557865448',\n",
       "  'price': 1.17521,\n",
       "  'fullVWAP': 1.17521,\n",
       "  'fullPrice': {'type': 'PRICE',\n",
       "   'bids': [{'price': 1.17521, 'liquidity': '500000'},\n",
       "    {'price': 1.1752, 'liquidity': '500000'},\n",
       "    {'price': 1.17519, 'liquidity': '2000000'},\n",
       "    {'price': 1.17518, 'liquidity': '2000000'},\n",
       "    {'price': 1.17517, 'liquidity': '5000000'},\n",
       "    {'price': 1.17515, 'liquidity': '10000000'},\n",
       "    {'price': 1.17512, 'liquidity': '10000000'}],\n",
       "   'asks': [{'price': 1.17527, 'liquidity': '500000'},\n",
       "    {'price': 1.17529, 'liquidity': '2500000'},\n",
       "    {'price': 1.1753, 'liquidity': '2000000'},\n",
       "    {'price': 1.17531, 'liquidity': '5000000'},\n",
       "    {'price': 1.17534, 'liquidity': '10000000'},\n",
       "    {'price': 1.17537, 'liquidity': '10000000'}],\n",
       "   'closeoutBid': 1.17512,\n",
       "   'closeoutAsk': 1.17537},\n",
       "  'reason': 'MARKET_ORDER',\n",
       "  'pl': '3.6709',\n",
       "  'financing': '0.0',\n",
       "  'commission': '0.0',\n",
       "  'guaranteedExecutionFee': '0.0',\n",
       "  'accountBalance': '199922.1103',\n",
       "  'tradesClosed': [{'tradeID': '35',\n",
       "    'units': '-100000.0',\n",
       "    'price': 1.17521,\n",
       "    'realizedPL': '3.6709',\n",
       "    'financing': '0.0',\n",
       "    'guaranteedExecutionFee': '0.0',\n",
       "    'halfSpreadCost': '2.2136'}],\n",
       "  'halfSpreadCost': '2.2136'},\n",
       " {'id': '39',\n",
       "  'time': '2025-09-08T13:40:27.553177776Z',\n",
       "  'userID': 36234373,\n",
       "  'accountID': '101-004-36234373-001',\n",
       "  'batchID': '37',\n",
       "  'requestID': '97442805820405485',\n",
       "  'type': 'ORDER_CANCEL',\n",
       "  'orderID': '36',\n",
       "  'reason': 'LINKED_TRADE_CLOSED'}]"
      ]
     },
     "execution_count": 11,
     "metadata": {},
     "output_type": "execute_result"
    }
   ],
   "source": [
    "api.get_transactions(tid=35)"
   ]
  },
  {
   "cell_type": "code",
   "execution_count": 12,
   "id": "79d59da3",
   "metadata": {},
   "outputs": [
    {
     "name": "stdout",
     "output_type": "stream",
     "text": [
      "  35 | 2025-09-08T13:38:18.35 | EUR_USD | 100000.0 |      0.0\n",
      "  38 | 2025-09-08T13:40:27.55 | EUR_USD | -100000.0 |   3.6709\n"
     ]
    }
   ],
   "source": [
    "api.print_transactions(tid=35-1)"
   ]
  },
  {
   "cell_type": "code",
   "execution_count": null,
   "id": "299e71e3",
   "metadata": {},
   "outputs": [],
   "source": []
  }
 ],
 "metadata": {
  "kernelspec": {
   "display_name": "Python 3",
   "language": "python",
   "name": "python3"
  },
  "language_info": {
   "codemirror_mode": {
    "name": "ipython",
    "version": 3
   },
   "file_extension": ".py",
   "mimetype": "text/x-python",
   "name": "python",
   "nbconvert_exporter": "python",
   "pygments_lexer": "ipython3",
   "version": "3.10.18"
  }
 },
 "nbformat": 4,
 "nbformat_minor": 5
}
