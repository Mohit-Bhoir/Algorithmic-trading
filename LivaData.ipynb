{
 "cells": [
  {
   "cell_type": "code",
   "execution_count": 2,
   "id": "945aa3e7",
   "metadata": {},
   "outputs": [],
   "source": [
    "import pandas as pd\n",
    "import tpqoa"
   ]
  },
  {
   "cell_type": "code",
   "execution_count": 3,
   "id": "02469a34",
   "metadata": {},
   "outputs": [],
   "source": [
    "api = tpqoa.tpqoa('OANDA_First_steps\\oanda.cfg')"
   ]
  },
  {
   "cell_type": "code",
   "execution_count": 6,
   "id": "1d30da08",
   "metadata": {},
   "outputs": [
    {
     "name": "stdout",
     "output_type": "stream",
     "text": [
      "2025-09-08T13:34:50.368263481Z 1.17546 1.17552\n",
      "2025-09-08T13:34:53.201809573Z 1.17543 1.17551\n",
      "2025-09-08T13:34:53.649271526Z 1.17543 1.1755\n",
      "2025-09-08T13:34:54.313912926Z 1.17544 1.1755\n",
      "2025-09-08T13:34:55.305204756Z 1.17544 1.1755\n",
      "2025-09-08T13:34:56.574769276Z 1.17544 1.1755\n",
      "2025-09-08T13:34:57.270236140Z 1.17544 1.1755\n",
      "2025-09-08T13:34:57.552837504Z 1.17544 1.1755\n",
      "2025-09-08T13:34:59.555664551Z 1.17543 1.17549\n",
      "2025-09-08T13:34:59.913679386Z 1.17543 1.17549\n",
      "2025-09-08T13:35:00.064732555Z 1.17542 1.17548\n",
      "2025-09-08T13:35:00.418699059Z 1.17542 1.17548\n",
      "2025-09-08T13:35:00.594826274Z 1.17542 1.17549\n",
      "2025-09-08T13:35:01.166218979Z 1.17544 1.17551\n",
      "2025-09-08T13:35:01.666557794Z 1.17543 1.17551\n",
      "2025-09-08T13:35:01.880034823Z 1.17544 1.17551\n",
      "2025-09-08T13:35:02.950967113Z 1.17543 1.17551\n",
      "2025-09-08T13:35:03.504601089Z 1.17544 1.17551\n",
      "2025-09-08T13:35:04.292115797Z 1.17544 1.17551\n",
      "2025-09-08T13:35:04.735266261Z 1.17544 1.1755\n",
      "2025-09-08T13:35:05.095761864Z 1.17542 1.17551\n",
      "2025-09-08T13:35:05.278050728Z 1.17542 1.1755\n",
      "2025-09-08T13:35:05.873124502Z 1.17545 1.17552\n",
      "2025-09-08T13:35:06.172463762Z 1.17549 1.17555\n",
      "2025-09-08T13:35:06.218879825Z 1.17549 1.17556\n",
      "2025-09-08T13:35:10.731958087Z 1.1755 1.17558\n",
      "2025-09-08T13:35:11.072739425Z 1.17551 1.17559\n",
      "2025-09-08T13:35:11.284117219Z 1.17551 1.17559\n",
      "2025-09-08T13:35:11.506527677Z 1.17551 1.17561\n",
      "2025-09-08T13:35:11.809416093Z 1.1755 1.17557\n",
      "2025-09-08T13:35:12.608376812Z 1.17551 1.1756\n",
      "2025-09-08T13:35:12.885678655Z 1.17551 1.17559\n",
      "2025-09-08T13:35:13.084760329Z 1.17551 1.17561\n",
      "2025-09-08T13:35:13.719334934Z 1.17551 1.1756\n",
      "2025-09-08T13:35:15.584620536Z 1.17551 1.1756\n",
      "2025-09-08T13:35:16.454362484Z 1.1756 1.17568\n",
      "2025-09-08T13:35:16.692312889Z 1.17556 1.17562\n",
      "2025-09-08T13:35:17.152646486Z 1.17556 1.17564\n",
      "2025-09-08T13:35:17.548671041Z 1.17556 1.17563\n",
      "2025-09-08T13:35:18.316155636Z 1.17551 1.17559\n",
      "2025-09-08T13:35:19.658609714Z 1.17551 1.17559\n",
      "2025-09-08T13:35:20.078481773Z 1.17553 1.1756\n",
      "2025-09-08T13:35:22.139707292Z 1.17551 1.17559\n",
      "2025-09-08T13:35:23.118566320Z 1.1755 1.17557\n",
      "2025-09-08T13:35:24.091543712Z 1.17549 1.17557\n",
      "2025-09-08T13:35:25.202363429Z 1.17549 1.17556\n",
      "2025-09-08T13:35:26.452968680Z 1.17551 1.17557\n",
      "2025-09-08T13:35:27.061284218Z 1.17548 1.17556\n",
      "2025-09-08T13:35:27.273680065Z 1.17549 1.17556\n",
      "2025-09-08T13:35:28.277657042Z 1.17548 1.17556\n",
      "2025-09-08T13:35:28.608857266Z 1.17548 1.17556\n",
      "2025-09-08T13:35:28.730291062Z 1.17547 1.17556\n",
      "2025-09-08T13:35:29.035136183Z 1.17548 1.17557\n",
      "2025-09-08T13:35:29.415625022Z 1.17548 1.17557\n",
      "2025-09-08T13:35:30.167673053Z 1.17543 1.17551\n",
      "2025-09-08T13:35:30.327951845Z 1.17543 1.17551\n",
      "2025-09-08T13:35:30.768025327Z 1.17543 1.1755\n",
      "2025-09-08T13:35:30.963423886Z 1.17544 1.17552\n",
      "2025-09-08T13:35:31.140453249Z 1.17544 1.17551\n",
      "2025-09-08T13:35:33.118348067Z 1.17543 1.17551\n",
      "2025-09-08T13:35:34.102455586Z 1.17543 1.1755\n",
      "2025-09-08T13:35:34.335650260Z 1.17537 1.17544\n",
      "2025-09-08T13:35:34.816878998Z 1.17534 1.17542\n",
      "2025-09-08T13:35:34.978138112Z 1.17535 1.17543\n",
      "2025-09-08T13:35:36.135529407Z 1.17537 1.17544\n",
      "2025-09-08T13:35:36.746243469Z 1.17538 1.17544\n",
      "2025-09-08T13:35:37.769610189Z 1.17537 1.17546\n",
      "2025-09-08T13:35:39.367894069Z 1.17538 1.17546\n",
      "2025-09-08T13:35:40.276850592Z 1.17538 1.17545\n",
      "2025-09-08T13:35:40.355226338Z 1.17537 1.17545\n",
      "2025-09-08T13:35:41.061711620Z 1.17528 1.17538\n",
      "2025-09-08T13:35:41.164074254Z 1.17524 1.17533\n",
      "2025-09-08T13:35:41.643714366Z 1.17525 1.17533\n"
     ]
    },
    {
     "ename": "KeyboardInterrupt",
     "evalue": "",
     "output_type": "error",
     "traceback": [
      "\u001b[1;31m---------------------------------------------------------------------------\u001b[0m",
      "\u001b[1;31mKeyboardInterrupt\u001b[0m                         Traceback (most recent call last)",
      "Cell \u001b[1;32mIn[6], line 1\u001b[0m\n\u001b[1;32m----> 1\u001b[0m \u001b[43mapi\u001b[49m\u001b[38;5;241;43m.\u001b[39;49m\u001b[43mstream_data\u001b[49m\u001b[43m(\u001b[49m\u001b[38;5;124;43m'\u001b[39;49m\u001b[38;5;124;43mEUR_USD\u001b[39;49m\u001b[38;5;124;43m'\u001b[39;49m\u001b[43m)\u001b[49m\n",
      "File \u001b[1;32md:\\anaconda3\\envs\\mlops\\lib\\site-packages\\tpqoa\\tpqoa.py:346\u001b[0m, in \u001b[0;36mtpqoa.stream_data\u001b[1;34m(self, instrument, stop, ret, callback)\u001b[0m\n\u001b[0;32m    342\u001b[0m response \u001b[38;5;241m=\u001b[39m \u001b[38;5;28mself\u001b[39m\u001b[38;5;241m.\u001b[39mctx_stream\u001b[38;5;241m.\u001b[39mpricing\u001b[38;5;241m.\u001b[39mstream(\n\u001b[0;32m    343\u001b[0m     \u001b[38;5;28mself\u001b[39m\u001b[38;5;241m.\u001b[39maccount_id, snapshot\u001b[38;5;241m=\u001b[39m\u001b[38;5;28;01mTrue\u001b[39;00m,\n\u001b[0;32m    344\u001b[0m     instruments\u001b[38;5;241m=\u001b[39minstrument)\n\u001b[0;32m    345\u001b[0m msgs \u001b[38;5;241m=\u001b[39m []\n\u001b[1;32m--> 346\u001b[0m \u001b[38;5;28;01mfor\u001b[39;00m msg_type, msg \u001b[38;5;129;01min\u001b[39;00m response\u001b[38;5;241m.\u001b[39mparts():\n\u001b[0;32m    347\u001b[0m     msgs\u001b[38;5;241m.\u001b[39mappend(msg)\n\u001b[0;32m    348\u001b[0m     \u001b[38;5;66;03m# print(msg_type, msg)\u001b[39;00m\n",
      "File \u001b[1;32md:\\anaconda3\\envs\\mlops\\lib\\site-packages\\v20\\response.py:52\u001b[0m, in \u001b[0;36mResponse.parts\u001b[1;34m(self)\u001b[0m\n\u001b[0;32m     49\u001b[0m     \u001b[38;5;28;01mreturn\u001b[39;00m\n\u001b[0;32m     51\u001b[0m \u001b[38;5;28;01mtry\u001b[39;00m:\n\u001b[1;32m---> 52\u001b[0m     \u001b[38;5;28;01mfor\u001b[39;00m line \u001b[38;5;129;01min\u001b[39;00m \u001b[38;5;28mself\u001b[39m\u001b[38;5;241m.\u001b[39mlines:\n\u001b[0;32m     53\u001b[0m         \u001b[38;5;28;01myield\u001b[39;00m parser(line)\n\u001b[0;32m     54\u001b[0m \u001b[38;5;28;01mexcept\u001b[39;00m requests\u001b[38;5;241m.\u001b[39mexceptions\u001b[38;5;241m.\u001b[39mConnectionError:\n",
      "File \u001b[1;32md:\\anaconda3\\envs\\mlops\\lib\\site-packages\\requests\\models.py:869\u001b[0m, in \u001b[0;36mResponse.iter_lines\u001b[1;34m(self, chunk_size, decode_unicode, delimiter)\u001b[0m\n\u001b[0;32m    860\u001b[0m \u001b[38;5;250m\u001b[39m\u001b[38;5;124;03m\"\"\"Iterates over the response data, one line at a time.  When\u001b[39;00m\n\u001b[0;32m    861\u001b[0m \u001b[38;5;124;03mstream=True is set on the request, this avoids reading the\u001b[39;00m\n\u001b[0;32m    862\u001b[0m \u001b[38;5;124;03mcontent at once into memory for large responses.\u001b[39;00m\n\u001b[0;32m    863\u001b[0m \n\u001b[0;32m    864\u001b[0m \u001b[38;5;124;03m.. note:: This method is not reentrant safe.\u001b[39;00m\n\u001b[0;32m    865\u001b[0m \u001b[38;5;124;03m\"\"\"\u001b[39;00m\n\u001b[0;32m    867\u001b[0m pending \u001b[38;5;241m=\u001b[39m \u001b[38;5;28;01mNone\u001b[39;00m\n\u001b[1;32m--> 869\u001b[0m \u001b[38;5;28;01mfor\u001b[39;00m chunk \u001b[38;5;129;01min\u001b[39;00m \u001b[38;5;28mself\u001b[39m\u001b[38;5;241m.\u001b[39miter_content(\n\u001b[0;32m    870\u001b[0m     chunk_size\u001b[38;5;241m=\u001b[39mchunk_size, decode_unicode\u001b[38;5;241m=\u001b[39mdecode_unicode\n\u001b[0;32m    871\u001b[0m ):\n\u001b[0;32m    872\u001b[0m     \u001b[38;5;28;01mif\u001b[39;00m pending \u001b[38;5;129;01mis\u001b[39;00m \u001b[38;5;129;01mnot\u001b[39;00m \u001b[38;5;28;01mNone\u001b[39;00m:\n\u001b[0;32m    873\u001b[0m         chunk \u001b[38;5;241m=\u001b[39m pending \u001b[38;5;241m+\u001b[39m chunk\n",
      "File \u001b[1;32md:\\anaconda3\\envs\\mlops\\lib\\site-packages\\requests\\models.py:820\u001b[0m, in \u001b[0;36mResponse.iter_content.<locals>.generate\u001b[1;34m()\u001b[0m\n\u001b[0;32m    818\u001b[0m \u001b[38;5;28;01mif\u001b[39;00m \u001b[38;5;28mhasattr\u001b[39m(\u001b[38;5;28mself\u001b[39m\u001b[38;5;241m.\u001b[39mraw, \u001b[38;5;124m\"\u001b[39m\u001b[38;5;124mstream\u001b[39m\u001b[38;5;124m\"\u001b[39m):\n\u001b[0;32m    819\u001b[0m     \u001b[38;5;28;01mtry\u001b[39;00m:\n\u001b[1;32m--> 820\u001b[0m         \u001b[38;5;28;01myield from\u001b[39;00m \u001b[38;5;28mself\u001b[39m\u001b[38;5;241m.\u001b[39mraw\u001b[38;5;241m.\u001b[39mstream(chunk_size, decode_content\u001b[38;5;241m=\u001b[39m\u001b[38;5;28;01mTrue\u001b[39;00m)\n\u001b[0;32m    821\u001b[0m     \u001b[38;5;28;01mexcept\u001b[39;00m ProtocolError \u001b[38;5;28;01mas\u001b[39;00m e:\n\u001b[0;32m    822\u001b[0m         \u001b[38;5;28;01mraise\u001b[39;00m ChunkedEncodingError(e)\n",
      "File \u001b[1;32md:\\anaconda3\\envs\\mlops\\lib\\site-packages\\urllib3\\response.py:1088\u001b[0m, in \u001b[0;36mHTTPResponse.stream\u001b[1;34m(self, amt, decode_content)\u001b[0m\n\u001b[0;32m   1072\u001b[0m \u001b[38;5;250m\u001b[39m\u001b[38;5;124;03m\"\"\"\u001b[39;00m\n\u001b[0;32m   1073\u001b[0m \u001b[38;5;124;03mA generator wrapper for the read() method. A call will block until\u001b[39;00m\n\u001b[0;32m   1074\u001b[0m \u001b[38;5;124;03m``amt`` bytes have been read from the connection or until the\u001b[39;00m\n\u001b[1;32m   (...)\u001b[0m\n\u001b[0;32m   1085\u001b[0m \u001b[38;5;124;03m    'content-encoding' header.\u001b[39;00m\n\u001b[0;32m   1086\u001b[0m \u001b[38;5;124;03m\"\"\"\u001b[39;00m\n\u001b[0;32m   1087\u001b[0m \u001b[38;5;28;01mif\u001b[39;00m \u001b[38;5;28mself\u001b[39m\u001b[38;5;241m.\u001b[39mchunked \u001b[38;5;129;01mand\u001b[39;00m \u001b[38;5;28mself\u001b[39m\u001b[38;5;241m.\u001b[39msupports_chunked_reads():\n\u001b[1;32m-> 1088\u001b[0m     \u001b[38;5;28;01myield from\u001b[39;00m \u001b[38;5;28mself\u001b[39m\u001b[38;5;241m.\u001b[39mread_chunked(amt, decode_content\u001b[38;5;241m=\u001b[39mdecode_content)\n\u001b[0;32m   1089\u001b[0m \u001b[38;5;28;01melse\u001b[39;00m:\n\u001b[0;32m   1090\u001b[0m     \u001b[38;5;28;01mwhile\u001b[39;00m \u001b[38;5;129;01mnot\u001b[39;00m is_fp_closed(\u001b[38;5;28mself\u001b[39m\u001b[38;5;241m.\u001b[39m_fp) \u001b[38;5;129;01mor\u001b[39;00m \u001b[38;5;28mlen\u001b[39m(\u001b[38;5;28mself\u001b[39m\u001b[38;5;241m.\u001b[39m_decoded_buffer) \u001b[38;5;241m>\u001b[39m \u001b[38;5;241m0\u001b[39m:\n",
      "File \u001b[1;32md:\\anaconda3\\envs\\mlops\\lib\\site-packages\\urllib3\\response.py:1248\u001b[0m, in \u001b[0;36mHTTPResponse.read_chunked\u001b[1;34m(self, amt, decode_content)\u001b[0m\n\u001b[0;32m   1245\u001b[0m     amt \u001b[38;5;241m=\u001b[39m \u001b[38;5;28;01mNone\u001b[39;00m\n\u001b[0;32m   1247\u001b[0m \u001b[38;5;28;01mwhile\u001b[39;00m \u001b[38;5;28;01mTrue\u001b[39;00m:\n\u001b[1;32m-> 1248\u001b[0m     \u001b[38;5;28;43mself\u001b[39;49m\u001b[38;5;241;43m.\u001b[39;49m\u001b[43m_update_chunk_length\u001b[49m\u001b[43m(\u001b[49m\u001b[43m)\u001b[49m\n\u001b[0;32m   1249\u001b[0m     \u001b[38;5;28;01mif\u001b[39;00m \u001b[38;5;28mself\u001b[39m\u001b[38;5;241m.\u001b[39mchunk_left \u001b[38;5;241m==\u001b[39m \u001b[38;5;241m0\u001b[39m:\n\u001b[0;32m   1250\u001b[0m         \u001b[38;5;28;01mbreak\u001b[39;00m\n",
      "File \u001b[1;32md:\\anaconda3\\envs\\mlops\\lib\\site-packages\\urllib3\\response.py:1167\u001b[0m, in \u001b[0;36mHTTPResponse._update_chunk_length\u001b[1;34m(self)\u001b[0m\n\u001b[0;32m   1165\u001b[0m \u001b[38;5;28;01mif\u001b[39;00m \u001b[38;5;28mself\u001b[39m\u001b[38;5;241m.\u001b[39mchunk_left \u001b[38;5;129;01mis\u001b[39;00m \u001b[38;5;129;01mnot\u001b[39;00m \u001b[38;5;28;01mNone\u001b[39;00m:\n\u001b[0;32m   1166\u001b[0m     \u001b[38;5;28;01mreturn\u001b[39;00m \u001b[38;5;28;01mNone\u001b[39;00m\n\u001b[1;32m-> 1167\u001b[0m line \u001b[38;5;241m=\u001b[39m \u001b[38;5;28;43mself\u001b[39;49m\u001b[38;5;241;43m.\u001b[39;49m\u001b[43m_fp\u001b[49m\u001b[38;5;241;43m.\u001b[39;49m\u001b[43mfp\u001b[49m\u001b[38;5;241;43m.\u001b[39;49m\u001b[43mreadline\u001b[49m\u001b[43m(\u001b[49m\u001b[43m)\u001b[49m  \u001b[38;5;66;03m# type: ignore[union-attr]\u001b[39;00m\n\u001b[0;32m   1168\u001b[0m line \u001b[38;5;241m=\u001b[39m line\u001b[38;5;241m.\u001b[39msplit(\u001b[38;5;124mb\u001b[39m\u001b[38;5;124m\"\u001b[39m\u001b[38;5;124m;\u001b[39m\u001b[38;5;124m\"\u001b[39m, \u001b[38;5;241m1\u001b[39m)[\u001b[38;5;241m0\u001b[39m]\n\u001b[0;32m   1169\u001b[0m \u001b[38;5;28;01mtry\u001b[39;00m:\n",
      "File \u001b[1;32md:\\anaconda3\\envs\\mlops\\lib\\socket.py:717\u001b[0m, in \u001b[0;36mSocketIO.readinto\u001b[1;34m(self, b)\u001b[0m\n\u001b[0;32m    715\u001b[0m \u001b[38;5;28;01mwhile\u001b[39;00m \u001b[38;5;28;01mTrue\u001b[39;00m:\n\u001b[0;32m    716\u001b[0m     \u001b[38;5;28;01mtry\u001b[39;00m:\n\u001b[1;32m--> 717\u001b[0m         \u001b[38;5;28;01mreturn\u001b[39;00m \u001b[38;5;28;43mself\u001b[39;49m\u001b[38;5;241;43m.\u001b[39;49m\u001b[43m_sock\u001b[49m\u001b[38;5;241;43m.\u001b[39;49m\u001b[43mrecv_into\u001b[49m\u001b[43m(\u001b[49m\u001b[43mb\u001b[49m\u001b[43m)\u001b[49m\n\u001b[0;32m    718\u001b[0m     \u001b[38;5;28;01mexcept\u001b[39;00m timeout:\n\u001b[0;32m    719\u001b[0m         \u001b[38;5;28mself\u001b[39m\u001b[38;5;241m.\u001b[39m_timeout_occurred \u001b[38;5;241m=\u001b[39m \u001b[38;5;28;01mTrue\u001b[39;00m\n",
      "File \u001b[1;32md:\\anaconda3\\envs\\mlops\\lib\\ssl.py:1307\u001b[0m, in \u001b[0;36mSSLSocket.recv_into\u001b[1;34m(self, buffer, nbytes, flags)\u001b[0m\n\u001b[0;32m   1303\u001b[0m     \u001b[38;5;28;01mif\u001b[39;00m flags \u001b[38;5;241m!=\u001b[39m \u001b[38;5;241m0\u001b[39m:\n\u001b[0;32m   1304\u001b[0m         \u001b[38;5;28;01mraise\u001b[39;00m \u001b[38;5;167;01mValueError\u001b[39;00m(\n\u001b[0;32m   1305\u001b[0m           \u001b[38;5;124m\"\u001b[39m\u001b[38;5;124mnon-zero flags not allowed in calls to recv_into() on \u001b[39m\u001b[38;5;132;01m%s\u001b[39;00m\u001b[38;5;124m\"\u001b[39m \u001b[38;5;241m%\u001b[39m\n\u001b[0;32m   1306\u001b[0m           \u001b[38;5;28mself\u001b[39m\u001b[38;5;241m.\u001b[39m\u001b[38;5;18m__class__\u001b[39m)\n\u001b[1;32m-> 1307\u001b[0m     \u001b[38;5;28;01mreturn\u001b[39;00m \u001b[38;5;28;43mself\u001b[39;49m\u001b[38;5;241;43m.\u001b[39;49m\u001b[43mread\u001b[49m\u001b[43m(\u001b[49m\u001b[43mnbytes\u001b[49m\u001b[43m,\u001b[49m\u001b[43m \u001b[49m\u001b[43mbuffer\u001b[49m\u001b[43m)\u001b[49m\n\u001b[0;32m   1308\u001b[0m \u001b[38;5;28;01melse\u001b[39;00m:\n\u001b[0;32m   1309\u001b[0m     \u001b[38;5;28;01mreturn\u001b[39;00m \u001b[38;5;28msuper\u001b[39m()\u001b[38;5;241m.\u001b[39mrecv_into(buffer, nbytes, flags)\n",
      "File \u001b[1;32md:\\anaconda3\\envs\\mlops\\lib\\ssl.py:1163\u001b[0m, in \u001b[0;36mSSLSocket.read\u001b[1;34m(self, len, buffer)\u001b[0m\n\u001b[0;32m   1161\u001b[0m \u001b[38;5;28;01mtry\u001b[39;00m:\n\u001b[0;32m   1162\u001b[0m     \u001b[38;5;28;01mif\u001b[39;00m buffer \u001b[38;5;129;01mis\u001b[39;00m \u001b[38;5;129;01mnot\u001b[39;00m \u001b[38;5;28;01mNone\u001b[39;00m:\n\u001b[1;32m-> 1163\u001b[0m         \u001b[38;5;28;01mreturn\u001b[39;00m \u001b[38;5;28;43mself\u001b[39;49m\u001b[38;5;241;43m.\u001b[39;49m\u001b[43m_sslobj\u001b[49m\u001b[38;5;241;43m.\u001b[39;49m\u001b[43mread\u001b[49m\u001b[43m(\u001b[49m\u001b[38;5;28;43mlen\u001b[39;49m\u001b[43m,\u001b[49m\u001b[43m \u001b[49m\u001b[43mbuffer\u001b[49m\u001b[43m)\u001b[49m\n\u001b[0;32m   1164\u001b[0m     \u001b[38;5;28;01melse\u001b[39;00m:\n\u001b[0;32m   1165\u001b[0m         \u001b[38;5;28;01mreturn\u001b[39;00m \u001b[38;5;28mself\u001b[39m\u001b[38;5;241m.\u001b[39m_sslobj\u001b[38;5;241m.\u001b[39mread(\u001b[38;5;28mlen\u001b[39m)\n",
      "\u001b[1;31mKeyboardInterrupt\u001b[0m: "
     ]
    }
   ],
   "source": [
    "api.stream_data('EUR_USD')"
   ]
  },
  {
   "cell_type": "code",
   "execution_count": null,
   "id": "623b3d78",
   "metadata": {},
   "outputs": [],
   "source": [
    "api.stop_stream()"
   ]
  },
  {
   "cell_type": "code",
   "execution_count": null,
   "id": "e174ef03",
   "metadata": {},
   "outputs": [],
   "source": []
  }
 ],
 "metadata": {
  "kernelspec": {
   "display_name": "Python 3",
   "language": "python",
   "name": "python3"
  },
  "language_info": {
   "codemirror_mode": {
    "name": "ipython",
    "version": 3
   },
   "file_extension": ".py",
   "mimetype": "text/x-python",
   "name": "python",
   "nbconvert_exporter": "python",
   "pygments_lexer": "ipython3",
   "version": "3.10.18"
  }
 },
 "nbformat": 4,
 "nbformat_minor": 5
}
